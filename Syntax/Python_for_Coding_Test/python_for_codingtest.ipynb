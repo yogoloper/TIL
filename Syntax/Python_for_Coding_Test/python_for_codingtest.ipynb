{
 "cells": [
  {
   "cell_type": "markdown",
   "id": "915292ce",
   "metadata": {},
   "source": [
    "# 자료형"
   ]
  },
  {
   "cell_type": "markdown",
   "id": "161c3594",
   "metadata": {},
   "source": [
    "## 수 자료형"
   ]
  },
  {
   "cell_type": "markdown",
   "id": "35e464b5",
   "metadata": {},
   "source": [
    "### 정수형"
   ]
  },
  {
   "cell_type": "code",
   "execution_count": 10,
   "id": "d1eb1476",
   "metadata": {},
   "outputs": [
    {
     "name": "stdout",
     "output_type": "stream",
     "text": [
      "1000\n"
     ]
    }
   ],
   "source": [
    "# 양의 정수\n",
    "a = 1000\n",
    "print(a)"
   ]
  },
  {
   "cell_type": "code",
   "execution_count": 11,
   "id": "2b614720",
   "metadata": {},
   "outputs": [
    {
     "name": "stdout",
     "output_type": "stream",
     "text": [
      "-7\n"
     ]
    }
   ],
   "source": [
    "# 음의 정수\n",
    "a = -7\n",
    "print(a)"
   ]
  },
  {
   "cell_type": "code",
   "execution_count": 12,
   "id": "e20633ef",
   "metadata": {},
   "outputs": [
    {
     "name": "stdout",
     "output_type": "stream",
     "text": [
      "0\n"
     ]
    }
   ],
   "source": [
    "# 0\n",
    "a = 0\n",
    "print(a)"
   ]
  },
  {
   "cell_type": "markdown",
   "id": "49710927",
   "metadata": {},
   "source": [
    "### 실수형"
   ]
  },
  {
   "cell_type": "code",
   "execution_count": 14,
   "id": "29ca30c3",
   "metadata": {},
   "outputs": [
    {
     "name": "stdout",
     "output_type": "stream",
     "text": [
      "157.93\n"
     ]
    }
   ],
   "source": [
    "# 양의 실수\n",
    "a = 157.93\n",
    "print(a)"
   ]
  },
  {
   "cell_type": "code",
   "execution_count": 15,
   "id": "3e099439",
   "metadata": {},
   "outputs": [
    {
     "name": "stdout",
     "output_type": "stream",
     "text": [
      "-1837.2\n"
     ]
    }
   ],
   "source": [
    "# 음의 실수\n",
    "a = -1837.2\n",
    "print(a)"
   ]
  },
  {
   "cell_type": "code",
   "execution_count": 17,
   "id": "3794ea6c",
   "metadata": {},
   "outputs": [
    {
     "name": "stdout",
     "output_type": "stream",
     "text": [
      "5.0\n"
     ]
    }
   ],
   "source": [
    "# 소수부가 0일 때, 0 생략\n",
    "a = 5.\n",
    "print(a)"
   ]
  },
  {
   "cell_type": "code",
   "execution_count": 18,
   "id": "8e5da1e8",
   "metadata": {},
   "outputs": [
    {
     "name": "stdout",
     "output_type": "stream",
     "text": [
      "-0.7\n"
     ]
    }
   ],
   "source": [
    "# 정수부가 0일 때, 0 생략\n",
    "a = -.7\n",
    "print(a)"
   ]
  },
  {
   "cell_type": "code",
   "execution_count": 19,
   "id": "bdecbc7a",
   "metadata": {},
   "outputs": [
    {
     "name": "stdout",
     "output_type": "stream",
     "text": [
      "1000000000.0\n"
     ]
    }
   ],
   "source": [
    "# 10억의 지수 표현 방식\n",
    "a = 1e9\n",
    "print(a)"
   ]
  },
  {
   "cell_type": "code",
   "execution_count": 20,
   "id": "093057f6",
   "metadata": {},
   "outputs": [
    {
     "name": "stdout",
     "output_type": "stream",
     "text": [
      "752.5\n"
     ]
    }
   ],
   "source": [
    "# 752.5\n",
    "a = 75.25e1\n",
    "print(a)"
   ]
  },
  {
   "cell_type": "code",
   "execution_count": 21,
   "id": "820faada",
   "metadata": {},
   "outputs": [
    {
     "name": "stdout",
     "output_type": "stream",
     "text": [
      "3.954\n"
     ]
    }
   ],
   "source": [
    "# 3.954\n",
    "a = 3954e-3\n",
    "print(a)"
   ]
  },
  {
   "cell_type": "code",
   "execution_count": 25,
   "id": "c397bdc3",
   "metadata": {},
   "outputs": [
    {
     "name": "stdout",
     "output_type": "stream",
     "text": [
      "0.8999999999999999\n",
      "False\n",
      "True\n"
     ]
    }
   ],
   "source": [
    "# 컴퓨터는 실수를 정확하게 표현하지 못하기 때문에 round()를 사용\n",
    "a = 0.3 + 0.6\n",
    "print(a)\n",
    "\n",
    "if a == 0.9:\n",
    "    print(True)\n",
    "else:\n",
    "    print(False)\n",
    "\n",
    "if round(a, 4) == 0.9:\n",
    "    print(True)\n",
    "else:\n",
    "    print(False)    "
   ]
  },
  {
   "cell_type": "markdown",
   "id": "7e1ad8f8",
   "metadata": {},
   "source": [
    "### 수 자료형의 연산"
   ]
  },
  {
   "cell_type": "code",
   "execution_count": 27,
   "id": "32733c04",
   "metadata": {},
   "outputs": [
    {
     "name": "stdout",
     "output_type": "stream",
     "text": [
      "2.3333333333333335\n",
      "1\n",
      "2\n",
      "125\n"
     ]
    }
   ],
   "source": [
    "a = 7\n",
    "b = 3\n",
    "\n",
    "# 나누기\n",
    "print( a / b )\n",
    "\n",
    "# 나머지\n",
    "print( a % b )\n",
    "\n",
    "# 몫\n",
    "print( a // b )\n",
    "\n",
    "# 거듭제곱\n",
    "a = 5\n",
    "b = 3\n",
    "print( a ** 3 )"
   ]
  },
  {
   "cell_type": "markdown",
   "id": "750cf0bb",
   "metadata": {},
   "source": [
    "## 리스트 자료형"
   ]
  },
  {
   "cell_type": "markdown",
   "id": "5a74da58",
   "metadata": {},
   "source": [
    "### 리스트 만들기"
   ]
  },
  {
   "cell_type": "code",
   "execution_count": 29,
   "id": "dd634671",
   "metadata": {},
   "outputs": [
    {
     "name": "stdout",
     "output_type": "stream",
     "text": [
      "[1, 2, 3, 4, 5, 6, 7, 8, 9]\n",
      "5\n",
      "[]\n",
      "[]\n"
     ]
    }
   ],
   "source": [
    "a = [1, 2, 3, 4, 5, 6, 7, 8, 9]\n",
    "print(a)\n",
    "\n",
    "# 인덱스 4, 즉 다섯 번째 요소 접근\n",
    "print(a[4])\n",
    "\n",
    "# 빈 리스트 선언 방법 1)\n",
    "a = list()\n",
    "print(a)\n",
    "\n",
    "# 빈 리스트 선언 방법 2)\n",
    "a = []\n",
    "print(a)"
   ]
  },
  {
   "cell_type": "code",
   "execution_count": 31,
   "id": "d0f3dcbc",
   "metadata": {},
   "outputs": [
    {
     "name": "stdout",
     "output_type": "stream",
     "text": [
      "[0, 0, 0, 0, 0, 0, 0, 0, 0, 0]\n"
     ]
    }
   ],
   "source": [
    "# 크기가 N이고, 모든 값이 0인 1차원 리스트 초기화\n",
    "n = 10\n",
    "a = [0] * n\n",
    "print(a)"
   ]
  },
  {
   "cell_type": "markdown",
   "id": "9ac803f7",
   "metadata": {},
   "source": [
    "### 리스트의 인덱싱과 슬라이싱"
   ]
  },
  {
   "cell_type": "code",
   "execution_count": 33,
   "id": "2ab4e849",
   "metadata": {},
   "outputs": [
    {
     "name": "stdout",
     "output_type": "stream",
     "text": [
      "9\n",
      "7\n",
      "[1, 2, 3, 7, 5, 6, 7, 8, 9]\n"
     ]
    }
   ],
   "source": [
    "a = [1, 2, 3, 4, 5, 6, 7, 8, 9]\n",
    "# 뒤에서 첫 번째 원소 출력\n",
    "print(a[-1])\n",
    "\n",
    "# 뒤에서 세 번째 원소 출력\n",
    "print(a[-3])\n",
    "\n",
    "# 네 번째 원소 값 변경\n",
    "a[3] = 7\n",
    "print(a)"
   ]
  },
  {
   "cell_type": "code",
   "execution_count": 34,
   "id": "a04376de",
   "metadata": {},
   "outputs": [
    {
     "name": "stdout",
     "output_type": "stream",
     "text": [
      "[2, 3, 4]\n"
     ]
    }
   ],
   "source": [
    "a = [1, 2, 3, 4, 5, 6, 7, 8, 9]\n",
    "\n",
    "# 두 번째 원소부터 네 번째 원소까지\n",
    "print(a[1:4])"
   ]
  },
  {
   "cell_type": "markdown",
   "id": "d08b1fd7",
   "metadata": {},
   "source": [
    "### 리스트 컴프리헨션"
   ]
  },
  {
   "cell_type": "code",
   "execution_count": 36,
   "id": "3f8c42c4",
   "metadata": {},
   "outputs": [
    {
     "name": "stdout",
     "output_type": "stream",
     "text": [
      "[1, 4, 9, 16, 25, 36, 49, 64, 81]\n"
     ]
    }
   ],
   "source": [
    "# 1부터 9까지의 수의 제곱 값을 포함하는 리스트\n",
    "array = [i * i for i in range(1, 10)]\n",
    "print(array)"
   ]
  },
  {
   "cell_type": "code",
   "execution_count": 39,
   "id": "373021b7",
   "metadata": {},
   "outputs": [
    {
     "name": "stdout",
     "output_type": "stream",
     "text": [
      "[[0, 0, 0, 0], [0, 0, 0, 0], [0, 0, 0, 0]]\n"
     ]
    }
   ],
   "source": [
    "# N * M 크기의 2차원 리스트 초기화\n",
    "n = 3\n",
    "m = 4\n",
    "array = [[0] * m for _ in range(n)]\n",
    "print(array)"
   ]
  },
  {
   "cell_type": "markdown",
   "id": "8f8d2618",
   "metadata": {},
   "source": [
    "#### 언더바(_)의 역할\n",
    "\n",
    "반복을 수행하되 반복을 위한 변수의 값을 무시하고자 할 때 언더바를 자주 사용"
   ]
  },
  {
   "cell_type": "code",
   "execution_count": 41,
   "id": "67e19869",
   "metadata": {},
   "outputs": [
    {
     "ename": "SyntaxError",
     "evalue": "unmatched ']' (2950317299.py, line 4)",
     "output_type": "error",
     "traceback": [
      "\u001b[0;36m  Input \u001b[0;32mIn [41]\u001b[0;36m\u001b[0m\n\u001b[0;31m    array = [[0]* m]] * n\u001b[0m\n\u001b[0m                    ^\u001b[0m\n\u001b[0;31mSyntaxError\u001b[0m\u001b[0;31m:\u001b[0m unmatched ']'\n"
     ]
    }
   ],
   "source": [
    "# N * M 크기의 2차원 리스트 초기화(잘못된 방법)\n",
    "n = 3\n",
    "m = 4\n",
    "array = [[0]* m]] * n\n",
    "print(array)\n",
    "\n",
    "array[1][1] = 5\n",
    "print(array)"
   ]
  },
  {
   "cell_type": "markdown",
   "id": "87697db0",
   "metadata": {},
   "source": [
    "### 리스트 관련 기타 메서드"
   ]
  },
  {
   "cell_type": "code",
   "execution_count": 44,
   "id": "b976055a",
   "metadata": {},
   "outputs": [
    {
     "name": "stdout",
     "output_type": "stream",
     "text": [
      "기본 리스트:  [1, 4, 3]\n",
      "삽입:  [1, 4, 3, 2]\n",
      "오름차순 정렬:  [1, 2, 3, 4]\n",
      "내림차순 정렬:  [4, 3, 2, 1]\n",
      "원소 뒤집기:  [1, 2, 3, 4]\n",
      "인덱스 2에 3추가:  [1, 2, 3, 3, 4]\n",
      "값이 3인 데이터 개수:  2\n",
      "값이 1인 데이터 삭제:  [2, 3, 3, 4]\n"
     ]
    }
   ],
   "source": [
    "a = [1, 4, 3]\n",
    "print('기본 리스트: ',  a)\n",
    "\n",
    "# 리스트에 원소 삽입 -> O(1)\n",
    "a.append(2)\n",
    "print('삽입: ', a)\n",
    "\n",
    "# 오름차순 정렬 -> O(logN)\n",
    "a.sort()\n",
    "print('오름차순 정렬: ', a)\n",
    "\n",
    "# 내림차순 정렬 -> O(logN)\n",
    "a.sort(reverse = True)\n",
    "print('내림차순 정렬: ', a)\n",
    "\n",
    "# 리스트 원소 뒤집기 -> O(N)\n",
    "a.reverse()\n",
    "print('원소 뒤집기: ', a)\n",
    "\n",
    "# 특정 인덱스에 데이터 추가 -> O(N)\n",
    "a.insert(2, 3)\n",
    "print('인덱스 2에 3추가: ', a)\n",
    "\n",
    "# 특정 값인 데이터 개수 세기 -> O(N)\n",
    "print('값이 3인 데이터 개수: ', a.count(3))\n",
    "\n",
    "# 특정 값 데이터 삭제 -> O(N)\n",
    "a.remove(1)\n",
    "print('값이 1인 데이터 삭제: ', a)"
   ]
  },
  {
   "cell_type": "markdown",
   "id": "b7cf6179",
   "metadata": {},
   "source": [
    "####  리스트 내 특정값 모두 제거"
   ]
  },
  {
   "cell_type": "code",
   "execution_count": 45,
   "id": "07e5e9d2",
   "metadata": {},
   "outputs": [
    {
     "name": "stdout",
     "output_type": "stream",
     "text": [
      "[1, 2, 4]\n"
     ]
    }
   ],
   "source": [
    "a = [1, 2, 3, 4, 5, 5, 5]\n",
    "remove_set = {3, 5}\n",
    "\n",
    "# remove_set에 포함되지 않은 값만을 저장\n",
    "result = [i for i in a if i not in remove_set]\n",
    "print(result)"
   ]
  },
  {
   "cell_type": "markdown",
   "id": "39da09b3",
   "metadata": {},
   "source": [
    "## 문자열 자료형"
   ]
  },
  {
   "cell_type": "markdown",
   "id": "1d4c09df",
   "metadata": {},
   "source": [
    "### 문자열 초기화"
   ]
  },
  {
   "cell_type": "code",
   "execution_count": 48,
   "id": "b7392a48",
   "metadata": {},
   "outputs": [
    {
     "name": "stdout",
     "output_type": "stream",
     "text": [
      "Hello world\n",
      "Don't you know \"Python\"?\n"
     ]
    }
   ],
   "source": [
    "data = 'Hello world'\n",
    "print(data)\n",
    "\n",
    "data = \"Don't you know \\\"Python\\\"?\"\n",
    "print(data)"
   ]
  },
  {
   "cell_type": "markdown",
   "id": "46ac2d8c",
   "metadata": {},
   "source": [
    "### 문자열 연산"
   ]
  },
  {
   "cell_type": "code",
   "execution_count": 49,
   "id": "3b882f96",
   "metadata": {},
   "outputs": [
    {
     "name": "stdout",
     "output_type": "stream",
     "text": [
      "Hello world\n"
     ]
    }
   ],
   "source": [
    "a = \"Hello\"\n",
    "b = \"world\"\n",
    "\n",
    "print(a + ' ' + b)"
   ]
  },
  {
   "cell_type": "code",
   "execution_count": 50,
   "id": "b9bc1f02",
   "metadata": {},
   "outputs": [
    {
     "name": "stdout",
     "output_type": "stream",
     "text": [
      "StringStringString\n"
     ]
    }
   ],
   "source": [
    "a = \"String\"\n",
    "print( a * 3 )"
   ]
  },
  {
   "cell_type": "code",
   "execution_count": 51,
   "id": "1203cc48",
   "metadata": {},
   "outputs": [
    {
     "name": "stdout",
     "output_type": "stream",
     "text": [
      "CD\n"
     ]
    }
   ],
   "source": [
    "a = \"ABCDEF\"\n",
    "print(a[2:4])"
   ]
  },
  {
   "cell_type": "markdown",
   "id": "1e1d387d",
   "metadata": {},
   "source": [
    "## 튜플 자료형"
   ]
  },
  {
   "cell_type": "markdown",
   "id": "cf37c321",
   "metadata": {},
   "source": [
    "- 튜플은 한 번 선언된 값을 변경불가\n",
    "- 리스트는 대괄호( \"[\", \"]\" )를 이용하지만, 튜플은 소괄호( \"(\", \")\" )를 이용"
   ]
  },
  {
   "cell_type": "code",
   "execution_count": 53,
   "id": "0d233b71",
   "metadata": {},
   "outputs": [
    {
     "name": "stdout",
     "output_type": "stream",
     "text": [
      "(1, 2, 3, 4)\n"
     ]
    },
    {
     "ename": "TypeError",
     "evalue": "'tuple' object does not support item assignment",
     "output_type": "error",
     "traceback": [
      "\u001b[0;31m---------------------------------------------------------------------------\u001b[0m",
      "\u001b[0;31mTypeError\u001b[0m                                 Traceback (most recent call last)",
      "Input \u001b[0;32mIn [53]\u001b[0m, in \u001b[0;36m<cell line: 4>\u001b[0;34m()\u001b[0m\n\u001b[1;32m      1\u001b[0m a \u001b[38;5;241m=\u001b[39m (\u001b[38;5;241m1\u001b[39m, \u001b[38;5;241m2\u001b[39m, \u001b[38;5;241m3\u001b[39m, \u001b[38;5;241m4\u001b[39m)\n\u001b[1;32m      2\u001b[0m \u001b[38;5;28mprint\u001b[39m(a)\n\u001b[0;32m----> 4\u001b[0m a[\u001b[38;5;241m2\u001b[39m] \u001b[38;5;241m=\u001b[39m \u001b[38;5;241m7\u001b[39m\n",
      "\u001b[0;31mTypeError\u001b[0m: 'tuple' object does not support item assignment"
     ]
    }
   ],
   "source": [
    "a = (1, 2, 3, 4)\n",
    "print(a)\n",
    "\n",
    "a[2] = 7"
   ]
  },
  {
   "cell_type": "markdown",
   "id": "02b85b9b",
   "metadata": {},
   "source": [
    "## 사전 자료형"
   ]
  },
  {
   "cell_type": "markdown",
   "id": "5a473f97",
   "metadata": {},
   "source": [
    "- key, value를 쌍으로 가지고 있는 자료형"
   ]
  },
  {
   "cell_type": "code",
   "execution_count": 55,
   "id": "2e6dd1d5",
   "metadata": {},
   "outputs": [
    {
     "name": "stdout",
     "output_type": "stream",
     "text": [
      "{'사과': 'Apple', '바나나': 'Banana', '코코넛': 'Coconut'}\n"
     ]
    }
   ],
   "source": [
    "data = dict()\n",
    "data['사과'] = \"Apple\"\n",
    "data['바나나'] = \"Banana\"\n",
    "data['코코넛'] = \"Coconut\"\n",
    "\n",
    "print(data)"
   ]
  },
  {
   "cell_type": "code",
   "execution_count": 56,
   "id": "6d659321",
   "metadata": {},
   "outputs": [
    {
     "name": "stdout",
     "output_type": "stream",
     "text": [
      "'사과'를 키로 가지고 있는 데이터가 존재합니다.\n"
     ]
    }
   ],
   "source": [
    "data = dict()\n",
    "data['사과'] = \"Apple\"\n",
    "data['바나나'] = \"Banana\"\n",
    "data['코코넛'] = \"Coconut\"\n",
    "\n",
    "if '사과' in data:\n",
    "    print(\"'사과'를 키로 가지고 있는 데이터가 존재합니다.\")"
   ]
  },
  {
   "cell_type": "markdown",
   "id": "6d271849",
   "metadata": {},
   "source": [
    "### 사전 자료형 관련 함수"
   ]
  },
  {
   "cell_type": "code",
   "execution_count": 61,
   "id": "c849c92a",
   "metadata": {},
   "outputs": [
    {
     "name": "stdout",
     "output_type": "stream",
     "text": [
      "dict_keys(['사과', '바나나', '코코넛'])\n",
      "dict_values(['Apple', 'Banana', 'Coconut'])\n",
      "사과 :  Apple\n",
      "바나나 :  Banana\n",
      "코코넛 :  Coconut\n"
     ]
    }
   ],
   "source": [
    "data = dict()\n",
    "data['사과'] = \"Apple\"\n",
    "data['바나나'] = \"Banana\"\n",
    "data['코코넛'] = \"Coconut\"\n",
    "\n",
    "# 키 데이터만 담은 리스트\n",
    "print(data.keys())\n",
    "\n",
    "# 값 데이터만 담은 리스트\n",
    "print(data.values())\n",
    "\n",
    "# 각 키에 따른 값을 하나씩 출력\n",
    "for key in data:\n",
    "    print(key, ': ', data[key])"
   ]
  },
  {
   "cell_type": "markdown",
   "id": "58822144",
   "metadata": {},
   "source": [
    "## 집합 자료형"
   ]
  },
  {
   "cell_type": "markdown",
   "id": "306b9d0d",
   "metadata": {},
   "source": [
    "- 중복을 허용 불가\n",
    "- 순서 없음"
   ]
  },
  {
   "cell_type": "code",
   "execution_count": 63,
   "id": "0b368ef8",
   "metadata": {},
   "outputs": [
    {
     "name": "stdout",
     "output_type": "stream",
     "text": [
      "{1, 2, 3, 4, 5}\n",
      "{1, 2, 3, 4, 5}\n"
     ]
    }
   ],
   "source": [
    "# 집합 자료형 초기화 방법 1\n",
    "data = set([1, 1, 2, 3, 4, 4, 5])\n",
    "print(data)\n",
    "\n",
    "# 집합 자료형 초기화 방법 2\n",
    "data = {1, 1, 2, 3, 4, 4, 5}\n",
    "print(data)"
   ]
  },
  {
   "cell_type": "markdown",
   "id": "840859bb",
   "metadata": {},
   "source": [
    "### 집합 자료형의 연산"
   ]
  },
  {
   "cell_type": "code",
   "execution_count": 64,
   "id": "3d4febd3",
   "metadata": {},
   "outputs": [
    {
     "name": "stdout",
     "output_type": "stream",
     "text": [
      "{1, 2, 3, 4, 5, 6, 7}\n",
      "{3, 4, 5}\n",
      "{1, 2}\n"
     ]
    }
   ],
   "source": [
    "a = set([1, 2, 3, 4, 5])\n",
    "b = set([3, 4, 5, 6, 7])\n",
    "\n",
    "print(a | b) # 합집합\n",
    "print(a & b) # 교집합\n",
    "print(a - b) # 차집합"
   ]
  },
  {
   "cell_type": "markdown",
   "id": "4233d1ef",
   "metadata": {},
   "source": [
    "### 집합 자료형 관련 함수"
   ]
  },
  {
   "cell_type": "code",
   "execution_count": 67,
   "id": "ade68710",
   "metadata": {},
   "outputs": [
    {
     "name": "stdout",
     "output_type": "stream",
     "text": [
      "{1, 2, 3}\n",
      "{1, 2, 3, 4}\n",
      "{1, 2, 4, 5, 6}\n"
     ]
    }
   ],
   "source": [
    "data = set([1, 2, 3])\n",
    "print(data)\n",
    "\n",
    "# 새로운 원소 추가\n",
    "data.add(4)\n",
    "print(data)\n",
    "\n",
    "# 새로운 원소 여러 개 추가\n",
    "data.update([5, 6])\n",
    "\n",
    "# 특정한 값을 갖는 원소 삭제\n",
    "data.remove(3)\n",
    "print(data)"
   ]
  },
  {
   "cell_type": "markdown",
   "id": "96549432",
   "metadata": {},
   "source": [
    "# 조건문"
   ]
  },
  {
   "cell_type": "code",
   "execution_count": 68,
   "id": "040698a4",
   "metadata": {},
   "outputs": [
    {
     "name": "stdout",
     "output_type": "stream",
     "text": [
      "15\n"
     ]
    }
   ],
   "source": [
    "x = 15\n",
    "\n",
    "if x >= 10:\n",
    "    print(x)"
   ]
  },
  {
   "cell_type": "code",
   "execution_count": 70,
   "id": "8a09cb3b",
   "metadata": {},
   "outputs": [
    {
     "name": "stdout",
     "output_type": "stream",
     "text": [
      "B\n"
     ]
    }
   ],
   "source": [
    "score = 85\n",
    "\n",
    "if score >= 90:\n",
    "    print('A')\n",
    "elif score >= 80:\n",
    "    print('B')\n",
    "elif score >= 70:\n",
    "    print('C')\n",
    "else:\n",
    "    print('F')"
   ]
  },
  {
   "cell_type": "markdown",
   "id": "0801926c",
   "metadata": {},
   "source": [
    "## 비교 연산자"
   ]
  },
  {
   "cell_type": "markdown",
   "id": "b862f969",
   "metadata": {},
   "source": [
    "- X == Y\n",
    "- X != Y\n",
    "- X > Y\n",
    "- X < Y\n",
    "- X >= Y\n",
    "- X <= Y"
   ]
  },
  {
   "cell_type": "markdown",
   "id": "d6ac84b5",
   "metadata": {},
   "source": [
    "## 논리 연산자"
   ]
  },
  {
   "cell_type": "markdown",
   "id": "d9999219",
   "metadata": {},
   "source": [
    "- X and Y\n",
    "- X or Y\n",
    "- not X"
   ]
  },
  {
   "cell_type": "markdown",
   "id": "60e90985",
   "metadata": {},
   "source": [
    "## 파이썬 기타 연산자"
   ]
  },
  {
   "cell_type": "markdown",
   "id": "d5f1e55c",
   "metadata": {},
   "source": [
    "- X in 리스트  \n",
    "  리스트 안에 X가 있을때 True\n",
    "- X not in 리스트  \n",
    "    리스트 안에 X가 없을때 True"
   ]
  },
  {
   "cell_type": "markdown",
   "id": "65dfb554",
   "metadata": {},
   "source": [
    "### 한 줄 if문(조건부 표현식)"
   ]
  },
  {
   "cell_type": "code",
   "execution_count": 73,
   "id": "8ed507fe",
   "metadata": {},
   "outputs": [
    {
     "name": "stdout",
     "output_type": "stream",
     "text": [
      "B\n",
      "Success\n",
      "Success\n"
     ]
    }
   ],
   "source": [
    "score = 85\n",
    "\n",
    "if score >= 90:\n",
    "    print('A')\n",
    "elif score >= 80:\n",
    "    print('B')\n",
    "elif score >= 70:\n",
    "    print('C')\n",
    "else:\n",
    "    print('F')\n",
    "\n",
    "if score >= 80: result = \"Success\"\n",
    "else: result = \"Fail\"\n",
    "print(result)\n",
    "\n",
    "result = \"Success\" if score >= 80 else \"Fail\"\n",
    "print(result)"
   ]
  },
  {
   "cell_type": "markdown",
   "id": "2d8935a6",
   "metadata": {},
   "source": [
    "#### 한 줄 if문 통해 특정값 제거"
   ]
  },
  {
   "cell_type": "code",
   "execution_count": 77,
   "id": "22f24341",
   "metadata": {},
   "outputs": [
    {
     "name": "stdout",
     "output_type": "stream",
     "text": [
      "[1, 2, 4]\n"
     ]
    }
   ],
   "source": [
    "a = [1, 2, 3, 4, 5, 5, 5]\n",
    "remove_set = {3, 5}\n",
    "\n",
    "result = []\n",
    "for i in a:\n",
    "    if i not in remove_set:\n",
    "        result.append(i)\n",
    "print(result)"
   ]
  },
  {
   "cell_type": "code",
   "execution_count": 74,
   "id": "5a48f334",
   "metadata": {},
   "outputs": [
    {
     "name": "stdout",
     "output_type": "stream",
     "text": [
      "[1, 2, 4]\n"
     ]
    }
   ],
   "source": [
    "a = [1, 2, 3, 4, 5, 5, 5]\n",
    "remove_set = {3, 5}\n",
    "\n",
    "# remove_set에 포함되지 않은 값만을 저장\n",
    "result = [i for i in a if i not in remove_set]\n",
    "print(result)"
   ]
  },
  {
   "cell_type": "markdown",
   "id": "b9552b04",
   "metadata": {},
   "source": [
    "#### 파이썬 조건문 내에서의 부등식"
   ]
  },
  {
   "cell_type": "code",
   "execution_count": 80,
   "id": "837379e9",
   "metadata": {},
   "outputs": [
    {
     "name": "stdout",
     "output_type": "stream",
     "text": [
      "15\n",
      "15\n"
     ]
    }
   ],
   "source": [
    "x = 15\n",
    "if x > 0 and x < 20:\n",
    "    print(\"15\")\n",
    "\n",
    "if 0 < x < 20:\n",
    "    print(\"15\")"
   ]
  },
  {
   "cell_type": "markdown",
   "id": "ecd09944",
   "metadata": {},
   "source": [
    "# 반복문"
   ]
  },
  {
   "cell_type": "markdown",
   "id": "61137548",
   "metadata": {},
   "source": [
    "## while 문"
   ]
  },
  {
   "cell_type": "code",
   "execution_count": 82,
   "id": "8159e058",
   "metadata": {},
   "outputs": [
    {
     "name": "stdout",
     "output_type": "stream",
     "text": [
      "9\n"
     ]
    }
   ],
   "source": [
    "i = 1\n",
    "result = 0\n",
    "\n",
    "while i <= 9:\n",
    "    result += 1\n",
    "    i += 1\n",
    "print(result)"
   ]
  },
  {
   "cell_type": "code",
   "execution_count": 83,
   "id": "1c5fac7f",
   "metadata": {},
   "outputs": [
    {
     "name": "stdout",
     "output_type": "stream",
     "text": [
      "5\n"
     ]
    }
   ],
   "source": [
    "i = 1\n",
    "result = 0\n",
    "\n",
    "while i <= 9:\n",
    "    if i % 2 == 1:\n",
    "        result += 1\n",
    "    i += 1\n",
    "print(result)"
   ]
  },
  {
   "cell_type": "markdown",
   "id": "f8cede45",
   "metadata": {},
   "source": [
    "## for 문"
   ]
  },
  {
   "cell_type": "code",
   "execution_count": 84,
   "id": "79759b40",
   "metadata": {},
   "outputs": [
    {
     "name": "stdout",
     "output_type": "stream",
     "text": [
      "45\n"
     ]
    }
   ],
   "source": [
    "result = 0\n",
    "\n",
    "for i in range(1, 10):\n",
    "    result += i\n",
    "print(result)"
   ]
  },
  {
   "cell_type": "code",
   "execution_count": 92,
   "id": "72436fe4",
   "metadata": {
    "collapsed": true
   },
   "outputs": [
    {
     "name": "stdout",
     "output_type": "stream",
     "text": [
      "1 번 학생 합격\n",
      "5 번 학생 합격\n"
     ]
    }
   ],
   "source": [
    "scores = [90, 85, 77, 65, 97]\n",
    "cheating_list = {2, 4}\n",
    "\n",
    "for i in range(len(scores)):\n",
    "    if  i + 1 in cheating_list:\n",
    "        continue\n",
    "    if scores[i] >= 80:\n",
    "        print(i+1, '번 학생 합격')\n",
    "    "
   ]
  },
  {
   "cell_type": "code",
   "execution_count": null,
   "id": "6856900f",
   "metadata": {},
   "outputs": [],
   "source": [
    "for i in range(2, 10):\n",
    "    for j in range(1, 10):\n",
    "        print(i, 'X', j, '=', i * j )\n",
    "# 구구단 실행결과 생략"
   ]
  },
  {
   "cell_type": "markdown",
   "id": "170523ae",
   "metadata": {},
   "source": [
    "# 함수"
   ]
  },
  {
   "cell_type": "code",
   "execution_count": 95,
   "id": "6f643c82",
   "metadata": {},
   "outputs": [
    {
     "name": "stdout",
     "output_type": "stream",
     "text": [
      "10\n"
     ]
    }
   ],
   "source": [
    "def add(a, b):\n",
    "    return a + b\n",
    "print(add(b=3, a=7))"
   ]
  },
  {
   "cell_type": "code",
   "execution_count": 99,
   "id": "4964bc3b",
   "metadata": {},
   "outputs": [
    {
     "name": "stdout",
     "output_type": "stream",
     "text": [
      "10\n"
     ]
    }
   ],
   "source": [
    "a = 0\n",
    "\n",
    "def func():\n",
    "    global a\n",
    "    a += 1\n",
    "\n",
    "for i in range(10):\n",
    "    func()\n",
    "    \n",
    "print(a)"
   ]
  },
  {
   "cell_type": "code",
   "execution_count": 100,
   "id": "69566f5a",
   "metadata": {},
   "outputs": [
    {
     "name": "stdout",
     "output_type": "stream",
     "text": [
      "10\n"
     ]
    }
   ],
   "source": [
    "# 일반적인 add() 메서드 사용\n",
    "def add(a, b):\n",
    "    return a + b\n",
    "print(add(3, 7))"
   ]
  },
  {
   "cell_type": "markdown",
   "id": "cb6af92c",
   "metadata": {},
   "source": [
    "#### 람다식 add() 함수 구현"
   ]
  },
  {
   "cell_type": "code",
   "execution_count": 104,
   "id": "9cdf82c7",
   "metadata": {},
   "outputs": [
    {
     "name": "stdout",
     "output_type": "stream",
     "text": [
      "10\n"
     ]
    }
   ],
   "source": [
    "# 람다 표현식으로 구현한 add() 메서드\n",
    "print((lambda a, b: a + b)(3, 7))"
   ]
  },
  {
   "cell_type": "markdown",
   "id": "6e71d732",
   "metadata": {},
   "source": [
    "# 입출력"
   ]
  },
  {
   "cell_type": "code",
   "execution_count": 107,
   "id": "1903a168",
   "metadata": {},
   "outputs": [
    {
     "name": "stdout",
     "output_type": "stream",
     "text": [
      "5\n",
      "65 90 75 34 99\n",
      "[99, 90, 75, 65, 34]\n"
     ]
    }
   ],
   "source": [
    "# 데이터 개수 입력\n",
    "n = int(input())\n",
    "# 각 데이터를 공백으로 구분하여 입력\n",
    "data = list(map(int, input().split()))\n",
    "\n",
    "data.sort(reverse = True)\n",
    "print(data)"
   ]
  },
  {
   "cell_type": "code",
   "execution_count": 111,
   "id": "663d17c2",
   "metadata": {},
   "outputs": [
    {
     "name": "stdout",
     "output_type": "stream",
     "text": [
      "1 2 3\n",
      "1 2 3\n"
     ]
    }
   ],
   "source": [
    "# n, m k를 공백으로 구분하여 적은 수의 데이터 입력\n",
    "n, m, k = map(int, input().split())\n",
    "\n",
    "print(n, m, k)"
   ]
  },
  {
   "cell_type": "markdown",
   "id": "04f41040",
   "metadata": {},
   "source": [
    "#### sys 라이브러리를 이용한 입력(쥬피터에서는 동작을 안함)"
   ]
  },
  {
   "cell_type": "code",
   "execution_count": 116,
   "id": "75ecef1e",
   "metadata": {},
   "outputs": [
    {
     "data": {
      "text/plain": [
       "''"
      ]
     },
     "execution_count": 116,
     "metadata": {},
     "output_type": "execute_result"
    }
   ],
   "source": [
    "import sys\n",
    "sys.stdin.readline().rstrip()"
   ]
  },
  {
   "cell_type": "code",
   "execution_count": 118,
   "id": "ec5b61f5",
   "metadata": {},
   "outputs": [
    {
     "name": "stdout",
     "output_type": "stream",
     "text": [
      "\n"
     ]
    }
   ],
   "source": [
    "import sys\n",
    "data = sys.stdin.readline().rstrip()\n",
    "print(data)"
   ]
  },
  {
   "cell_type": "markdown",
   "id": "585e4bdf",
   "metadata": {},
   "source": [
    "#### 출력시 오류가 발생하는 소스코드"
   ]
  },
  {
   "cell_type": "code",
   "execution_count": 119,
   "id": "1835e9a4",
   "metadata": {},
   "outputs": [
    {
     "ename": "TypeError",
     "evalue": "can only concatenate str (not \"int\") to str",
     "output_type": "error",
     "traceback": [
      "\u001b[0;31m---------------------------------------------------------------------------\u001b[0m",
      "\u001b[0;31mTypeError\u001b[0m                                 Traceback (most recent call last)",
      "Input \u001b[0;32mIn [119]\u001b[0m, in \u001b[0;36m<cell line: 2>\u001b[0;34m()\u001b[0m\n\u001b[1;32m      1\u001b[0m answer \u001b[38;5;241m=\u001b[39m \u001b[38;5;241m7\u001b[39m\n\u001b[0;32m----> 2\u001b[0m \u001b[38;5;28mprint\u001b[39m(\u001b[38;5;124;43m'\u001b[39;49m\u001b[38;5;124;43m정답은 \u001b[39;49m\u001b[38;5;124;43m'\u001b[39;49m\u001b[43m \u001b[49m\u001b[38;5;241;43m+\u001b[39;49m\u001b[43m \u001b[49m\u001b[43manswer\u001b[49m \u001b[38;5;241m+\u001b[39m \u001b[38;5;124m'\u001b[39m\u001b[38;5;124m입니다.\u001b[39m\u001b[38;5;124m'\u001b[39m)\n",
      "\u001b[0;31mTypeError\u001b[0m: can only concatenate str (not \"int\") to str"
     ]
    }
   ],
   "source": [
    "answer = 7\n",
    "print('정답은 ' + answer + '입니다.')"
   ]
  },
  {
   "cell_type": "markdown",
   "id": "c28e3b91",
   "metadata": {},
   "source": [
    "#### 변수를 문자열로 바꾸어 출력하는 소스코드"
   ]
  },
  {
   "cell_type": "code",
   "execution_count": 120,
   "id": "902f3f70",
   "metadata": {},
   "outputs": [
    {
     "name": "stdout",
     "output_type": "stream",
     "text": [
      "정답은 7입니다.\n"
     ]
    }
   ],
   "source": [
    "answer = 7\n",
    "print('정답은 ' + str(answer) + '입니다.')"
   ]
  },
  {
   "cell_type": "markdown",
   "id": "14aac2b1",
   "metadata": {},
   "source": [
    "#### 각 변수를 콤마(,)로 구분하여 출력하는 소스코드"
   ]
  },
  {
   "cell_type": "code",
   "execution_count": 121,
   "id": "67fa4b44",
   "metadata": {},
   "outputs": [
    {
     "name": "stdout",
     "output_type": "stream",
     "text": [
      "정답은  7 입니다.\n"
     ]
    }
   ],
   "source": [
    "answer = 7\n",
    "print('정답은 ', answer, '입니다.')"
   ]
  },
  {
   "cell_type": "markdown",
   "id": "e9ac987f",
   "metadata": {},
   "source": [
    "#### f-string 이용하여 출력하는 소스코드"
   ]
  },
  {
   "cell_type": "code",
   "execution_count": 122,
   "id": "7b130bab",
   "metadata": {},
   "outputs": [
    {
     "name": "stdout",
     "output_type": "stream",
     "text": [
      "정답은 7입니다.\n"
     ]
    }
   ],
   "source": [
    "answer = 7\n",
    "print(f'정답은 {answer}입니다.')"
   ]
  },
  {
   "cell_type": "markdown",
   "id": "b2fe9397",
   "metadata": {},
   "source": [
    "# 주요 라이브러리의 문법과 유의점"
   ]
  },
  {
   "cell_type": "markdown",
   "id": "fbf1774c",
   "metadata": {},
   "source": [
    "- 표준 라이브러리  \n",
    "  특정한 프로그래밍 언어에서 자주 사용되는 표준 소스코드를 미리 구현해 놓은 라이브러리\n",
    "- 내장 함수: print(), input()과 같은 기본 입출력 기능부터 sorted()와 같은 정렬 기능을 포함하고 있는 기본 내장 라이브러리\n",
    "- itertools: 파이썬에서 반복되는 형태의 데이터를 처리하는 기능을 제공하는 라이브러리\n",
    "- heapq: 힙 기능을 제공하는 라이브러리, 우선순위 큐 기능을 구현하기 위해 사용\n",
    "- bisect: 이진탐색 기능을 제공하는 라이브러리\n",
    "- collections: 덱(deque), 카운터(counter) 등의 유용한 자료구조를 포함하고 있는 라이브러리\n",
    "- math: 필수적인 수학적 기능을 제공하는 라이브러리, 팩토리얼, 제곱근, 최대공약수, 삼각함수 관련 함수부터 파이 같은 상수도 포함"
   ]
  },
  {
   "cell_type": "markdown",
   "id": "96f34d85",
   "metadata": {},
   "source": [
    "### 내장함수"
   ]
  },
  {
   "cell_type": "code",
   "execution_count": 136,
   "id": "95a7b4ad",
   "metadata": {},
   "outputs": [
    {
     "name": "stdout",
     "output_type": "stream",
     "text": [
      "sum 15\n",
      "min 2\n",
      "max 7\n",
      "eval 56\n",
      "[1, 4, 5, 8, 9]\n",
      "[9, 8, 5, 4, 1]\n",
      "[('이순신', 75), ('아무개', 50), ('홍길동', 35)]\n",
      "[1, 4, 5, 8, 9]\n"
     ]
    }
   ],
   "source": [
    "result = sum([1, 2, 3, 4, 5])\n",
    "print('sum', result)\n",
    "\n",
    "result = min(7, 3, 5, 2)\n",
    "print('min', result)\n",
    "\n",
    "result = max(7, 3, 5, 2)\n",
    "print('max', result)\n",
    "\n",
    "# 수학식이 문자열로 들어오면 처리\n",
    "result = eval(\"(3+5)*7\")\n",
    "print('eval', result)\n",
    "\n",
    "# 오름차순 정렬\n",
    "result = sorted([9, 1, 8, 5, 4])\n",
    "print(result)\n",
    "\n",
    "# 내림차순 정렬\n",
    "result = sorted([9, 1, 8, 5, 4], reverse = True)\n",
    "print(result)\n",
    "\n",
    "# 람다식 정렬\n",
    "result = sorted([('홍길동', 35), ('이순신', 75), ('아무개', 50)], key = lambda x: x[1], reverse = True)\n",
    "print(result)\n",
    "\n",
    "# 리스트 내부값 정렬\n",
    "data = [9, 1, 8, 5, 4]\n",
    "data.sort()\n",
    "print(data)"
   ]
  },
  {
   "cell_type": "markdown",
   "id": "79a57aa5",
   "metadata": {},
   "source": [
    "### itertools"
   ]
  },
  {
   "cell_type": "code",
   "execution_count": 137,
   "id": "39742716",
   "metadata": {},
   "outputs": [
    {
     "name": "stdout",
     "output_type": "stream",
     "text": [
      "[('A', 'B', 'C'), ('A', 'C', 'B'), ('B', 'A', 'C'), ('B', 'C', 'A'), ('C', 'A', 'B'), ('C', 'B', 'A')]\n"
     ]
    }
   ],
   "source": [
    "from itertools import permutations\n",
    "\n",
    "# 데이터 준비\n",
    "data = ['A', 'B', 'C']\n",
    "\n",
    "# 모든 순열 구하기\n",
    "result = list(permutations(data, 3))\n",
    "\n",
    "print(result)"
   ]
  },
  {
   "cell_type": "code",
   "execution_count": 140,
   "id": "0a5b358b",
   "metadata": {},
   "outputs": [
    {
     "name": "stdout",
     "output_type": "stream",
     "text": [
      "[('A', 'B'), ('A', 'C'), ('B', 'C')]\n"
     ]
    }
   ],
   "source": [
    "from itertools import combinations\n",
    "\n",
    "# 데이터 준비\n",
    "data = ['A', 'B', 'C']\n",
    "\n",
    "# 2개를 뽑는 모든 조합 구하기\n",
    "result = list(combinations(data, 2))\n",
    "\n",
    "print(result)"
   ]
  },
  {
   "cell_type": "code",
   "execution_count": 142,
   "id": "1a9dc444",
   "metadata": {},
   "outputs": [
    {
     "name": "stdout",
     "output_type": "stream",
     "text": [
      "[('A', 'A'), ('A', 'B'), ('A', 'C'), ('B', 'A'), ('B', 'B'), ('B', 'C'), ('C', 'A'), ('C', 'B'), ('C', 'C')]\n"
     ]
    }
   ],
   "source": [
    "from itertools import product\n",
    "\n",
    "# 데이터 준비\n",
    "data = ['A', 'B', 'C']\n",
    "\n",
    "# 2개를 뽑는 모든 순열 구하기(중복 허용)\n",
    "result = list(product(data, repeat = 2))\n",
    "\n",
    "print(result)"
   ]
  },
  {
   "cell_type": "code",
   "execution_count": 143,
   "id": "d3bf04ff",
   "metadata": {},
   "outputs": [
    {
     "name": "stdout",
     "output_type": "stream",
     "text": [
      "[('A', 'A'), ('A', 'B'), ('A', 'C'), ('B', 'B'), ('B', 'C'), ('C', 'C')]\n"
     ]
    }
   ],
   "source": [
    "from itertools import combinations_with_replacement\n",
    "\n",
    "# 데이터 준비\n",
    "data = ['A', 'B', 'C']\n",
    "\n",
    "# 2개를 뽑는 모든 순열 구하기(중복 허용)\n",
    "result = list(combinations_with_replacement(data, 2))\n",
    "\n",
    "print(result)"
   ]
  },
  {
   "cell_type": "markdown",
   "id": "0ad35635",
   "metadata": {},
   "source": [
    "### heapq"
   ]
  },
  {
   "cell_type": "code",
   "execution_count": 152,
   "id": "8e53808f",
   "metadata": {},
   "outputs": [
    {
     "name": "stdout",
     "output_type": "stream",
     "text": [
      "[0, 1, 2, 3, 4, 5, 6, 7, 8, 9]\n"
     ]
    }
   ],
   "source": [
    "# 힙에 넣었다 빼는것만으로도 O(NlogN의 오름차순 정렬이 완료\n",
    "\n",
    "import heapq\n",
    "\n",
    "def heapsort(iterable):\n",
    "    h = []\n",
    "    result = []\n",
    "    # 모든 원소를 차례대로 힙에 삽입\n",
    "    for value in iterable:\n",
    "        heapq.heappush(h, value)\n",
    "    # 힙에 삽입된 모든 요소를 차례대로 꺼내어 담기\n",
    "    for _ in range(len(h)):\n",
    "        result.append(heapq.heappop(h))\n",
    "    return result\n",
    "\n",
    "result = heapsort([1, 3, 5, 7, 9, 2, 4, 6, 8, 0])\n",
    "print(result)"
   ]
  },
  {
   "cell_type": "code",
   "execution_count": 153,
   "id": "a61004d7",
   "metadata": {},
   "outputs": [
    {
     "name": "stdout",
     "output_type": "stream",
     "text": [
      "[9, 8, 7, 6, 5, 4, 3, 2, 1, 0]\n"
     ]
    }
   ],
   "source": [
    "# 힙에 -로 넣었다 -로 빼는것만으로도 O(NlogN의 내림차순 정렬이 완료\n",
    "\n",
    "\n",
    "import heapq\n",
    "\n",
    "def heapsort(iterable):\n",
    "    h = []\n",
    "    result = []\n",
    "    # 모든 원소를 차례대로 힙에 삽입\n",
    "    for value in iterable:\n",
    "        heapq.heappush(h, -value)\n",
    "    # 힙에 삽입된 모든 요소를 차례대로 꺼내어 담기\n",
    "    for _ in range(len(h)):\n",
    "        result.append(-heapq.heappop(h))\n",
    "    return result\n",
    "\n",
    "result = heapsort([1, 3, 5, 7, 9, 2, 4, 6, 8, 0])\n",
    "print(result)\n",
    "    "
   ]
  },
  {
   "cell_type": "markdown",
   "id": "6ea8ede0",
   "metadata": {},
   "source": [
    "### bisect"
   ]
  },
  {
   "cell_type": "code",
   "execution_count": 155,
   "id": "23768111",
   "metadata": {},
   "outputs": [
    {
     "name": "stdout",
     "output_type": "stream",
     "text": [
      "2\n",
      "4\n"
     ]
    }
   ],
   "source": [
    "# bisect_left, bisect_right 는 O(logN)으로 삽입한\n",
    "from bisect import bisect_left, bisect_right\n",
    "\n",
    "a = [1, 2, 4, 4, 8]\n",
    "x = 4\n",
    "\n",
    "print(bisect_left(a, x))\n",
    "print(bisect_right(a, x))"
   ]
  },
  {
   "cell_type": "code",
   "execution_count": 159,
   "id": "d8cc9e5b",
   "metadata": {},
   "outputs": [
    {
     "name": "stdout",
     "output_type": "stream",
     "text": [
      "2\n",
      "6\n"
     ]
    }
   ],
   "source": [
    "from bisect import bisect_left, bisect_right\n",
    "\n",
    "# 값이 [left_value, right_value]인  데이터틔 개수를 반환하는 함수\n",
    "def county_by_range(a, left_value, right_value):\n",
    "    right_index = bisect_right(a, right_value)\n",
    "    left_index = bisect_left(a, left_value)\n",
    "    return right_index - left_index\n",
    "\n",
    "# 리스트 선언\n",
    "a = [1, 2, 3, 3, 3, 3, 4, 4, 8, 9]\n",
    "\n",
    "# 값이 4인 데이터 개수 출력\n",
    "print(county_by_range(a, 4, 4))\n",
    "\n",
    "# 값이 [-1, 3] 범위에 있는 데이터 개수 출력\n",
    "print(county_by_range(a, -1, 3))"
   ]
  },
  {
   "cell_type": "markdown",
   "id": "e1756418",
   "metadata": {},
   "source": [
    "### collections"
   ]
  },
  {
   "cell_type": "code",
   "execution_count": 161,
   "id": "3093a160",
   "metadata": {},
   "outputs": [
    {
     "name": "stdout",
     "output_type": "stream",
     "text": [
      "deque([1, 2, 3, 4, 5])\n",
      "[1, 2, 3, 4, 5]\n"
     ]
    }
   ],
   "source": [
    "from collections import deque\n",
    "\n",
    "data = deque([2, 3, 4])\n",
    "data.appendleft(1)\n",
    "data.append(5)\n",
    "\n",
    "print(data)\n",
    "print(list(data)) # 리스트 자료형으롭 변환\n"
   ]
  },
  {
   "cell_type": "code",
   "execution_count": 165,
   "id": "62721719",
   "metadata": {},
   "outputs": [
    {
     "name": "stdout",
     "output_type": "stream",
     "text": [
      "3\n",
      "1\n",
      "dict[Counter({'blue': 3, 'red': 1, 'green': 1})]\n"
     ]
    }
   ],
   "source": [
    "from collections import Counter\n",
    "\n",
    "counter = Counter(['red', 'blue', 'green', 'blue', 'blue'])\n",
    "\n",
    "print(counter['blue'])  # 'blue'가 등장한 횟수 출력\n",
    "print(counter['green']) # 'green'이 등장한 횟수 출력\n",
    "print(dict[counter])    # 사전 자료형으로 변환"
   ]
  },
  {
   "cell_type": "markdown",
   "id": "1a0753ac",
   "metadata": {},
   "source": [
    "### math"
   ]
  },
  {
   "cell_type": "code",
   "execution_count": 167,
   "id": "547b504d",
   "metadata": {},
   "outputs": [
    {
     "name": "stdout",
     "output_type": "stream",
     "text": [
      "120\n"
     ]
    }
   ],
   "source": [
    "import math\n",
    "\n",
    "print(math.factorial(5)) # 5 팩토리얼을 출력"
   ]
  },
  {
   "cell_type": "code",
   "execution_count": 169,
   "id": "218c62bb",
   "metadata": {},
   "outputs": [
    {
     "name": "stdout",
     "output_type": "stream",
     "text": [
      "2.6457513110645907\n"
     ]
    }
   ],
   "source": [
    "import math\n",
    "\n",
    "print(math.sqrt(7)) # 7의 제곱근을 출력"
   ]
  },
  {
   "cell_type": "code",
   "execution_count": 170,
   "id": "ddf130a6",
   "metadata": {},
   "outputs": [
    {
     "name": "stdout",
     "output_type": "stream",
     "text": [
      "7\n"
     ]
    }
   ],
   "source": [
    "import math\n",
    "\n",
    "print(math.gcd(21, 14)) # 최대 공약수"
   ]
  },
  {
   "cell_type": "code",
   "execution_count": 171,
   "id": "80b70f5d",
   "metadata": {},
   "outputs": [
    {
     "name": "stdout",
     "output_type": "stream",
     "text": [
      "3.141592653589793\n",
      "2.718281828459045\n"
     ]
    }
   ],
   "source": [
    "import math\n",
    "\n",
    "print(math.pi) # 파이(pi) 출력\n",
    "print(math.e)  # 자연 상수 e 출력"
   ]
  }
 ],
 "metadata": {
  "kernelspec": {
   "display_name": "Python 3 (ipykernel)",
   "language": "python",
   "name": "python3"
  },
  "language_info": {
   "codemirror_mode": {
    "name": "ipython",
    "version": 3
   },
   "file_extension": ".py",
   "mimetype": "text/x-python",
   "name": "python",
   "nbconvert_exporter": "python",
   "pygments_lexer": "ipython3",
   "version": "3.9.10"
  }
 },
 "nbformat": 4,
 "nbformat_minor": 5
}
